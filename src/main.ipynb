{
 "cells": [
  {
   "cell_type": "code",
   "execution_count": null,
   "metadata": {},
   "outputs": [],
   "source": [
    "import loader\n",
    "import pipeline\n",
    "import torch\n",
    "from transformers import CLIPTokenizer\n",
    "from PIL import Image"
   ]
  },
  {
   "cell_type": "code",
   "execution_count": null,
   "metadata": {},
   "outputs": [],
   "source": [
    "DEVICE = \"cpu\"\n",
    "\n",
    "# if torch.cuda.is_available():\n",
    "#     DEVICE = \"cuda\"\n",
    "\n",
    "# if torch.backends.mps.is_available():\n",
    "#     DEVICE = \"mps\"\n",
    "\n",
    "print(f\"Using device: {DEVICE}\")\n",
    "\n",
    "tokenizer = CLIPTokenizer(\"../data/vocab.json\", merges_file=\"../data/merges.txt\")\n",
    "models = loader.load_model_from_weights(\"../data/v1-5-pruned-emaonly.ckpt\", DEVICE)\n",
    "\n",
    "# Text to Image\n",
    "PROMPT = \"cat eating ramen\"\n",
    "UNCOND_PROMPT = \"\"  # Negative prompt - something you don't want the output to have\n",
    "do_cfg = True\n",
    "cfg_scale = 7\n",
    "\n",
    "# Image to Image\n",
    "img_path = \"../images/cat.jpeg\"\n",
    "inp_img = Image.open(img_path)\n",
    "\n",
    "strength = 0.9\n",
    "sampler = \"ddpm\"\n",
    "seed = 42\n",
    "num_inference_steps = 50"
   ]
  },
  {
   "cell_type": "code",
   "execution_count": null,
   "metadata": {},
   "outputs": [],
   "source": [
    "out_img = pipeline.generate(\n",
    "                prompt=PROMPT, \n",
    "                uncond_prompt=UNCOND_PROMPT, \n",
    "                inp_img=inp_img, \n",
    "                strength=strength, \n",
    "                do_cfg=do_cfg, \n",
    "                cfg_weight=cfg_scale, \n",
    "                sampler_name=sampler, \n",
    "                n_inference_steps=num_inference_steps, \n",
    "                models=models, \n",
    "                seed=seed, \n",
    "                device=DEVICE, \n",
    "                tokenizer=tokenizer\n",
    "                )\n",
    "\n",
    "Image.fromarray(out_img)"
   ]
  }
 ],
 "metadata": {
  "kernelspec": {
   "display_name": "stable_diffusion",
   "language": "python",
   "name": "python3"
  },
  "language_info": {
   "codemirror_mode": {
    "name": "ipython",
    "version": 3
   },
   "file_extension": ".py",
   "mimetype": "text/x-python",
   "name": "python",
   "nbconvert_exporter": "python",
   "pygments_lexer": "ipython3",
   "version": "3.12.7"
  }
 },
 "nbformat": 4,
 "nbformat_minor": 2
}
